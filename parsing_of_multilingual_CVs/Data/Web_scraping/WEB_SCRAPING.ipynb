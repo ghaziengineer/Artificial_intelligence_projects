{
  "nbformat": 4,
  "nbformat_minor": 0,
  "metadata": {
    "colab": {
      "provenance": []
    },
    "kernelspec": {
      "name": "python3",
      "display_name": "Python 3"
    },
    "language_info": {
      "name": "python"
    }
  },
  "cells": [
    {
      "cell_type": "code",
      "source": [
        "from google.colab import drive\n",
        "drive.mount('/content/drive')"
      ],
      "metadata": {
        "colab": {
          "base_uri": "https://localhost:8080/"
        },
        "id": "mQ6phS-NAcdP",
        "outputId": "9cffed6e-9af9-4386-9ced-17612f5f41d6"
      },
      "execution_count": null,
      "outputs": [
        {
          "output_type": "stream",
          "name": "stdout",
          "text": [
            "Drive already mounted at /content/drive; to attempt to forcibly remount, call drive.mount(\"/content/drive\", force_remount=True).\n"
          ]
        }
      ]
    },
    {
      "cell_type": "markdown",
      "source": [
        "**Scrape LinkedIn Using Selenium And Beautiful Soup in Python**"
      ],
      "metadata": {
        "id": "ALt5zDAGpUOK"
      }
    },
    {
      "cell_type": "code",
      "source": [
        "!pip install selenium\n",
        "!pip install beautifulsoup4"
      ],
      "metadata": {
        "id": "N3BGvdoCpbrQ",
        "colab": {
          "base_uri": "https://localhost:8080/"
        },
        "outputId": "88128375-9401-47a0-abc5-0f01d131b326"
      },
      "execution_count": null,
      "outputs": [
        {
          "output_type": "stream",
          "name": "stdout",
          "text": [
            "Looking in indexes: https://pypi.org/simple, https://us-python.pkg.dev/colab-wheels/public/simple/\n",
            "Requirement already satisfied: beautifulsoup4 in /usr/local/lib/python3.8/dist-packages (4.6.3)\n"
          ]
        }
      ]
    },
    {
      "cell_type": "code",
      "source": [
        "!apt install chromium-chromedriver\n"
      ],
      "metadata": {
        "id": "ucfhQioyv19r"
      },
      "execution_count": null,
      "outputs": []
    },
    {
      "cell_type": "code",
      "source": [
        "from selenium import webdriver\n",
        "from bs4 import BeautifulSoup\n",
        "import time\n"
      ],
      "metadata": {
        "id": "s_3We4Ktv6Ax"
      },
      "execution_count": null,
      "outputs": []
    },
    {
      "cell_type": "code",
      "source": [
        "# Replace 'path/to/msedgedriver' with the path to your EdgeDriver executable\n",
        "# Creating a webdriver instance\n",
        "options = webdriver.EdgeOptions()\n",
        "options.use_chromium = True\n",
        "driver = webdriver.Edge('/content/drive/MyDrive/Colab Notebooks/libraries', options=options)"
      ],
      "metadata": {
        "id": "BLmSy_-rv7Ph"
      },
      "execution_count": null,
      "outputs": []
    },
    {
      "cell_type": "code",
      "source": [
        "# Opening linkedIn's login page\n",
        "driver.get(\"https://linkedin.com/uas/login\")\n",
        "\n",
        "# waiting for the page to load\n",
        "time.sleep(5)\n",
        "\n",
        "# entering username\n",
        "username = driver.find_element_by_id(\"username\")\n",
        "\n",
        "# In case of an error, try changing the element\n",
        "# tag used here.\n",
        "\n",
        "# Enter Your Email Address\n",
        "username.send_keys(\"User_email\")\n",
        "\n",
        "# entering password\n",
        "pword = driver.find_element_by_id(\"password\")\n",
        "# In case of an error, try changing the element\n",
        "# tag used here.\n",
        "\n",
        "# Enter Your Password\n",
        "pword.send_keys(\"User_pass\")\n",
        "\n",
        "# Clicking on the log in button\n",
        "# Format (syntax) of writing XPath -->\n",
        "# //tagname[@attribute='value']\n",
        "driver.find_element_by_xpath(\"//button[@type='submit']\").click()\n",
        "# In case of an error, try changing the\n",
        "# XPath used here."
      ],
      "metadata": {
        "id": "swMmV2ZSv7NJ"
      },
      "execution_count": null,
      "outputs": []
    },
    {
      "cell_type": "code",
      "execution_count": null,
      "metadata": {
        "id": "ctFcDOj-rW3f"
      },
      "outputs": [],
      "source": [
        "import pandas as pd\n",
        "import numpy as np\n",
        "import matplotlib.pyplot as plt\n",
        "import seaborn as sns"
      ]
    },
    {
      "cell_type": "code",
      "source": [
        "from urllib.request import urlopen   #open URLs\n",
        "from bs4 import BeautifulSoup        #extract data from html files."
      ],
      "metadata": {
        "id": "ya-y_6iErnWZ"
      },
      "execution_count": null,
      "outputs": []
    },
    {
      "cell_type": "code",
      "source": [
        "url = \"https://www.linkedin.com/in/ghazi-abdallah/\"\n",
        "html = urlopen(url)"
      ],
      "metadata": {
        "colab": {
          "base_uri": "https://localhost:8080/",
          "height": 328
        },
        "id": "oE8V-Oh8r2vP",
        "outputId": "12a608fd-8faa-4f45-bc19-648894e95737",
        "collapsed": true
      },
      "execution_count": null,
      "outputs": [
        {
          "output_type": "error",
          "ename": "HTTPError",
          "evalue": "ignored",
          "traceback": [
            "\u001b[0;31m---------------------------------------------------------------------------\u001b[0m",
            "\u001b[0;31mHTTPError\u001b[0m                                 Traceback (most recent call last)",
            "\u001b[0;32m<ipython-input-10-5c0d49859200>\u001b[0m in \u001b[0;36m<module>\u001b[0;34m\u001b[0m\n\u001b[1;32m      1\u001b[0m \u001b[0murl\u001b[0m \u001b[0;34m=\u001b[0m \u001b[0;34m\"https://www.linkedin.com/in/ons-moussa/\"\u001b[0m\u001b[0;34m\u001b[0m\u001b[0;34m\u001b[0m\u001b[0m\n\u001b[0;32m----> 2\u001b[0;31m \u001b[0mhtml\u001b[0m \u001b[0;34m=\u001b[0m \u001b[0murlopen\u001b[0m\u001b[0;34m(\u001b[0m\u001b[0murl\u001b[0m\u001b[0;34m)\u001b[0m\u001b[0;34m\u001b[0m\u001b[0;34m\u001b[0m\u001b[0m\n\u001b[0m",
            "\u001b[0;32m/usr/lib/python3.8/urllib/request.py\u001b[0m in \u001b[0;36murlopen\u001b[0;34m(url, data, timeout, cafile, capath, cadefault, context)\u001b[0m\n\u001b[1;32m    220\u001b[0m     \u001b[0;32melse\u001b[0m\u001b[0;34m:\u001b[0m\u001b[0;34m\u001b[0m\u001b[0;34m\u001b[0m\u001b[0m\n\u001b[1;32m    221\u001b[0m         \u001b[0mopener\u001b[0m \u001b[0;34m=\u001b[0m \u001b[0m_opener\u001b[0m\u001b[0;34m\u001b[0m\u001b[0;34m\u001b[0m\u001b[0m\n\u001b[0;32m--> 222\u001b[0;31m     \u001b[0;32mreturn\u001b[0m \u001b[0mopener\u001b[0m\u001b[0;34m.\u001b[0m\u001b[0mopen\u001b[0m\u001b[0;34m(\u001b[0m\u001b[0murl\u001b[0m\u001b[0;34m,\u001b[0m \u001b[0mdata\u001b[0m\u001b[0;34m,\u001b[0m \u001b[0mtimeout\u001b[0m\u001b[0;34m)\u001b[0m\u001b[0;34m\u001b[0m\u001b[0;34m\u001b[0m\u001b[0m\n\u001b[0m\u001b[1;32m    223\u001b[0m \u001b[0;34m\u001b[0m\u001b[0m\n\u001b[1;32m    224\u001b[0m \u001b[0;32mdef\u001b[0m \u001b[0minstall_opener\u001b[0m\u001b[0;34m(\u001b[0m\u001b[0mopener\u001b[0m\u001b[0;34m)\u001b[0m\u001b[0;34m:\u001b[0m\u001b[0;34m\u001b[0m\u001b[0;34m\u001b[0m\u001b[0m\n",
            "\u001b[0;32m/usr/lib/python3.8/urllib/request.py\u001b[0m in \u001b[0;36mopen\u001b[0;34m(self, fullurl, data, timeout)\u001b[0m\n\u001b[1;32m    529\u001b[0m         \u001b[0;32mfor\u001b[0m \u001b[0mprocessor\u001b[0m \u001b[0;32min\u001b[0m \u001b[0mself\u001b[0m\u001b[0;34m.\u001b[0m\u001b[0mprocess_response\u001b[0m\u001b[0;34m.\u001b[0m\u001b[0mget\u001b[0m\u001b[0;34m(\u001b[0m\u001b[0mprotocol\u001b[0m\u001b[0;34m,\u001b[0m \u001b[0;34m[\u001b[0m\u001b[0;34m]\u001b[0m\u001b[0;34m)\u001b[0m\u001b[0;34m:\u001b[0m\u001b[0;34m\u001b[0m\u001b[0;34m\u001b[0m\u001b[0m\n\u001b[1;32m    530\u001b[0m             \u001b[0mmeth\u001b[0m \u001b[0;34m=\u001b[0m \u001b[0mgetattr\u001b[0m\u001b[0;34m(\u001b[0m\u001b[0mprocessor\u001b[0m\u001b[0;34m,\u001b[0m \u001b[0mmeth_name\u001b[0m\u001b[0;34m)\u001b[0m\u001b[0;34m\u001b[0m\u001b[0;34m\u001b[0m\u001b[0m\n\u001b[0;32m--> 531\u001b[0;31m             \u001b[0mresponse\u001b[0m \u001b[0;34m=\u001b[0m \u001b[0mmeth\u001b[0m\u001b[0;34m(\u001b[0m\u001b[0mreq\u001b[0m\u001b[0;34m,\u001b[0m \u001b[0mresponse\u001b[0m\u001b[0;34m)\u001b[0m\u001b[0;34m\u001b[0m\u001b[0;34m\u001b[0m\u001b[0m\n\u001b[0m\u001b[1;32m    532\u001b[0m \u001b[0;34m\u001b[0m\u001b[0m\n\u001b[1;32m    533\u001b[0m         \u001b[0;32mreturn\u001b[0m \u001b[0mresponse\u001b[0m\u001b[0;34m\u001b[0m\u001b[0;34m\u001b[0m\u001b[0m\n",
            "\u001b[0;32m/usr/lib/python3.8/urllib/request.py\u001b[0m in \u001b[0;36mhttp_response\u001b[0;34m(self, request, response)\u001b[0m\n\u001b[1;32m    638\u001b[0m         \u001b[0;31m# request was successfully received, understood, and accepted.\u001b[0m\u001b[0;34m\u001b[0m\u001b[0;34m\u001b[0m\u001b[0;34m\u001b[0m\u001b[0m\n\u001b[1;32m    639\u001b[0m         \u001b[0;32mif\u001b[0m \u001b[0;32mnot\u001b[0m \u001b[0;34m(\u001b[0m\u001b[0;36m200\u001b[0m \u001b[0;34m<=\u001b[0m \u001b[0mcode\u001b[0m \u001b[0;34m<\u001b[0m \u001b[0;36m300\u001b[0m\u001b[0;34m)\u001b[0m\u001b[0;34m:\u001b[0m\u001b[0;34m\u001b[0m\u001b[0;34m\u001b[0m\u001b[0m\n\u001b[0;32m--> 640\u001b[0;31m             response = self.parent.error(\n\u001b[0m\u001b[1;32m    641\u001b[0m                 'http', request, response, code, msg, hdrs)\n\u001b[1;32m    642\u001b[0m \u001b[0;34m\u001b[0m\u001b[0m\n",
            "\u001b[0;32m/usr/lib/python3.8/urllib/request.py\u001b[0m in \u001b[0;36merror\u001b[0;34m(self, proto, *args)\u001b[0m\n\u001b[1;32m    567\u001b[0m         \u001b[0;32mif\u001b[0m \u001b[0mhttp_err\u001b[0m\u001b[0;34m:\u001b[0m\u001b[0;34m\u001b[0m\u001b[0;34m\u001b[0m\u001b[0m\n\u001b[1;32m    568\u001b[0m             \u001b[0margs\u001b[0m \u001b[0;34m=\u001b[0m \u001b[0;34m(\u001b[0m\u001b[0mdict\u001b[0m\u001b[0;34m,\u001b[0m \u001b[0;34m'default'\u001b[0m\u001b[0;34m,\u001b[0m \u001b[0;34m'http_error_default'\u001b[0m\u001b[0;34m)\u001b[0m \u001b[0;34m+\u001b[0m \u001b[0morig_args\u001b[0m\u001b[0;34m\u001b[0m\u001b[0;34m\u001b[0m\u001b[0m\n\u001b[0;32m--> 569\u001b[0;31m             \u001b[0;32mreturn\u001b[0m \u001b[0mself\u001b[0m\u001b[0;34m.\u001b[0m\u001b[0m_call_chain\u001b[0m\u001b[0;34m(\u001b[0m\u001b[0;34m*\u001b[0m\u001b[0margs\u001b[0m\u001b[0;34m)\u001b[0m\u001b[0;34m\u001b[0m\u001b[0;34m\u001b[0m\u001b[0m\n\u001b[0m\u001b[1;32m    570\u001b[0m \u001b[0;34m\u001b[0m\u001b[0m\n\u001b[1;32m    571\u001b[0m \u001b[0;31m# XXX probably also want an abstract factory that knows when it makes\u001b[0m\u001b[0;34m\u001b[0m\u001b[0;34m\u001b[0m\u001b[0;34m\u001b[0m\u001b[0m\n",
            "\u001b[0;32m/usr/lib/python3.8/urllib/request.py\u001b[0m in \u001b[0;36m_call_chain\u001b[0;34m(self, chain, kind, meth_name, *args)\u001b[0m\n\u001b[1;32m    500\u001b[0m         \u001b[0;32mfor\u001b[0m \u001b[0mhandler\u001b[0m \u001b[0;32min\u001b[0m \u001b[0mhandlers\u001b[0m\u001b[0;34m:\u001b[0m\u001b[0;34m\u001b[0m\u001b[0;34m\u001b[0m\u001b[0m\n\u001b[1;32m    501\u001b[0m             \u001b[0mfunc\u001b[0m \u001b[0;34m=\u001b[0m \u001b[0mgetattr\u001b[0m\u001b[0;34m(\u001b[0m\u001b[0mhandler\u001b[0m\u001b[0;34m,\u001b[0m \u001b[0mmeth_name\u001b[0m\u001b[0;34m)\u001b[0m\u001b[0;34m\u001b[0m\u001b[0;34m\u001b[0m\u001b[0m\n\u001b[0;32m--> 502\u001b[0;31m             \u001b[0mresult\u001b[0m \u001b[0;34m=\u001b[0m \u001b[0mfunc\u001b[0m\u001b[0;34m(\u001b[0m\u001b[0;34m*\u001b[0m\u001b[0margs\u001b[0m\u001b[0;34m)\u001b[0m\u001b[0;34m\u001b[0m\u001b[0;34m\u001b[0m\u001b[0m\n\u001b[0m\u001b[1;32m    503\u001b[0m             \u001b[0;32mif\u001b[0m \u001b[0mresult\u001b[0m \u001b[0;32mis\u001b[0m \u001b[0;32mnot\u001b[0m \u001b[0;32mNone\u001b[0m\u001b[0;34m:\u001b[0m\u001b[0;34m\u001b[0m\u001b[0;34m\u001b[0m\u001b[0m\n\u001b[1;32m    504\u001b[0m                 \u001b[0;32mreturn\u001b[0m \u001b[0mresult\u001b[0m\u001b[0;34m\u001b[0m\u001b[0;34m\u001b[0m\u001b[0m\n",
            "\u001b[0;32m/usr/lib/python3.8/urllib/request.py\u001b[0m in \u001b[0;36mhttp_error_default\u001b[0;34m(self, req, fp, code, msg, hdrs)\u001b[0m\n\u001b[1;32m    647\u001b[0m \u001b[0;32mclass\u001b[0m \u001b[0mHTTPDefaultErrorHandler\u001b[0m\u001b[0;34m(\u001b[0m\u001b[0mBaseHandler\u001b[0m\u001b[0;34m)\u001b[0m\u001b[0;34m:\u001b[0m\u001b[0;34m\u001b[0m\u001b[0;34m\u001b[0m\u001b[0m\n\u001b[1;32m    648\u001b[0m     \u001b[0;32mdef\u001b[0m \u001b[0mhttp_error_default\u001b[0m\u001b[0;34m(\u001b[0m\u001b[0mself\u001b[0m\u001b[0;34m,\u001b[0m \u001b[0mreq\u001b[0m\u001b[0;34m,\u001b[0m \u001b[0mfp\u001b[0m\u001b[0;34m,\u001b[0m \u001b[0mcode\u001b[0m\u001b[0;34m,\u001b[0m \u001b[0mmsg\u001b[0m\u001b[0;34m,\u001b[0m \u001b[0mhdrs\u001b[0m\u001b[0;34m)\u001b[0m\u001b[0;34m:\u001b[0m\u001b[0;34m\u001b[0m\u001b[0;34m\u001b[0m\u001b[0m\n\u001b[0;32m--> 649\u001b[0;31m         \u001b[0;32mraise\u001b[0m \u001b[0mHTTPError\u001b[0m\u001b[0;34m(\u001b[0m\u001b[0mreq\u001b[0m\u001b[0;34m.\u001b[0m\u001b[0mfull_url\u001b[0m\u001b[0;34m,\u001b[0m \u001b[0mcode\u001b[0m\u001b[0;34m,\u001b[0m \u001b[0mmsg\u001b[0m\u001b[0;34m,\u001b[0m \u001b[0mhdrs\u001b[0m\u001b[0;34m,\u001b[0m \u001b[0mfp\u001b[0m\u001b[0;34m)\u001b[0m\u001b[0;34m\u001b[0m\u001b[0;34m\u001b[0m\u001b[0m\n\u001b[0m\u001b[1;32m    650\u001b[0m \u001b[0;34m\u001b[0m\u001b[0m\n\u001b[1;32m    651\u001b[0m \u001b[0;32mclass\u001b[0m \u001b[0mHTTPRedirectHandler\u001b[0m\u001b[0;34m(\u001b[0m\u001b[0mBaseHandler\u001b[0m\u001b[0;34m)\u001b[0m\u001b[0;34m:\u001b[0m\u001b[0;34m\u001b[0m\u001b[0;34m\u001b[0m\u001b[0m\n",
            "\u001b[0;31mHTTPError\u001b[0m: HTTP Error 999: Request denied"
          ]
        }
      ]
    },
    {
      "cell_type": "code",
      "source": [
        "soup = BeautifulSoup(html, 'lxml')\n",
        "type(soup)"
      ],
      "metadata": {
        "colab": {
          "base_uri": "https://localhost:8080/"
        },
        "id": "bUoaWVJvsdAn",
        "outputId": "b88f8eae-9fb8-4067-8b8f-26da50a975c6"
      },
      "execution_count": null,
      "outputs": [
        {
          "output_type": "execute_result",
          "data": {
            "text/plain": [
              "bs4.BeautifulSoup"
            ]
          },
          "metadata": {},
          "execution_count": 4
        }
      ]
    },
    {
      "cell_type": "code",
      "source": [
        "# Get the title\n",
        "title = soup.title\n",
        "print(title)"
      ],
      "metadata": {
        "colab": {
          "base_uri": "https://localhost:8080/"
        },
        "id": "B3mIwnyisddT",
        "outputId": "bceea341-2bdf-4320-dd51-b82b64bd621e"
      },
      "execution_count": null,
      "outputs": [
        {
          "output_type": "stream",
          "name": "stdout",
          "text": [
            "<title>Sign Up | LinkedIn</title>\n"
          ]
        }
      ]
    },
    {
      "cell_type": "code",
      "source": [
        "# Print out the text\n",
        "text = soup.get_text()\n",
        "print(soup.text)"
      ],
      "metadata": {
        "colab": {
          "base_uri": "https://localhost:8080/"
        },
        "id": "2PDyZmo4sjX-",
        "outputId": "188a0f8d-a26c-470c-ef51-0ac40158fad0"
      },
      "execution_count": null,
      "outputs": [
        {
          "output_type": "stream",
          "name": "stdout",
          "text": [
            "function getDfd() {let yFn,nFn;const p=new Promise((y, n)=>{yFn=y;nFn=n;});p.resolve=yFn;p.reject=nFn;return p;}window.lazyloader = getDfd();window.tracking = getDfd();window.impressionTracking = getDfd();window.pemTracking = getDfd();window.ingraphTracking = getDfd();window.appDetection = getDfd();Sign Up | LinkedIn/* this prevents animations from running when the page is initially loaded */.page--isLoading * {transition: none !important;}\n",
            "\n",
            "\n",
            "\n",
            "Make the most of your professional lifeNot you?Remove PhotoFirst nameLast nameEmailPassword (6 or more characters)ShowBy clicking Agree & Join, you agree to the LinkedIn User Agreement, Privacy Policy, and  Cookie Policy. Agree & JoinorSecurity verificationAlready on LinkedIn? Sign inLooking to create a page for a business? Get helpLinkedIn© 2023AboutAccessibilityUser AgreementPrivacy PolicyYour California Privacy ChoicesCookie PolicyCopyright PolicyBrand PolicyGuest ControlsCommunity Guidelinesالعربية (Arabic)Čeština (Czech)Dansk (Danish)Deutsch (German)English (English)Español (Spanish)Français (French)हिंदी (Hindi)Bahasa Indonesia (Indonesian)Italiano (Italian)日本語 (Japanese)한국어 (Korean)Bahasa Malaysia (Malay)Nederlands (Dutch)Norsk (Norwegian)Polski (Polish)Português (Portuguese)Română (Romanian)Русский (Russian)Svenska (Swedish)ภาษาไทย (Thai)Tagalog (Tagalog)Türkçe (Turkish)Українська (Ukrainian)简体中文 (Chinese (Simplified))正體中文 (Chinese (Traditional))Language\n"
          ]
        }
      ]
    },
    {
      "cell_type": "code",
      "source": [
        "import requests\n",
        "from bs4 import BeautifulSoup\n",
        "\n",
        "# Récupérer le contenu HTML de la page web\n",
        "url = \"https://www.linkedin.com/in/ghazi-abdallah/\"\n",
        "response = requests.get(url)\n",
        "html_content = response.content"
      ],
      "metadata": {
        "id": "CT4gSouKtH-Q"
      },
      "execution_count": null,
      "outputs": []
    },
    {
      "cell_type": "code",
      "source": [
        "# Analyser le contenu HTML avec BeautifulSoup\n",
        "soup = BeautifulSoup(html_content, 'html.parser')"
      ],
      "metadata": {
        "id": "lucHQNGmqOBp"
      },
      "execution_count": null,
      "outputs": []
    },
    {
      "cell_type": "code",
      "source": [
        "# Extraire le nom et l'adresse e-mail de la personne\n",
        "nom = soup.find('li', {'class': 'inline t-24 t-black t-normal break-words'}).text.strip()\n",
        "adresse_email = soup.find('a', {'class': 'ember-view link-without-visited-state'}).text.strip()\n",
        "\n",
        "# Afficher les informations extraites\n",
        "print(\"Nom: \", nom)\n",
        "print(\"Adresse e-mail: \", adresse_email)"
      ],
      "metadata": {
        "id": "dokxsWAeqUG2"
      },
      "execution_count": null,
      "outputs": []
    },
    {
      "cell_type": "code",
      "source": [
        "# Analyser le contenu HTML à l'aide de Beautiful Soup\n",
        "soup = BeautifulSoup(html_content, 'html.parser')\n",
        "text = \" \"\n",
        "# Extraire les informations pertinentes à partir de la page\n",
        "nom = soup.find('div', {'class': 'nom'}).html_content\n",
        "competences = soup.find('div', {'class': 'competences'}).html_content\n",
        "experiences_pro = soup.find('div', {'class': 'Experiences'}).html_content\n",
        "\n",
        "# Afficher les informations extraites\n",
        "print(\"Nom: \", nom)\n",
        "print(\"Compétences: \", competences)\n",
        "print(\"Expériences professionnelles: \", experiences_pro)"
      ],
      "metadata": {
        "colab": {
          "base_uri": "https://localhost:8080/"
        },
        "id": "EtAQE8mopA-l",
        "outputId": "ccfe806e-b37e-4526-8868-e076ef3d13bf"
      },
      "execution_count": null,
      "outputs": [
        {
          "output_type": "execute_result",
          "data": {
            "text/plain": [
              "[b'<html><head>',\n",
              " b'<script',\n",
              " b'type=\"text/javascript\">',\n",
              " b'window.onload',\n",
              " b'=',\n",
              " b'function()',\n",
              " b'{',\n",
              " b'//',\n",
              " b'Parse',\n",
              " b'the',\n",
              " b'tracking',\n",
              " b'code',\n",
              " b'from',\n",
              " b'cookies.',\n",
              " b'var',\n",
              " b'trk',\n",
              " b'=',\n",
              " b'\"bf\";',\n",
              " b'var',\n",
              " b'trkInfo',\n",
              " b'=',\n",
              " b'\"bf\";',\n",
              " b'var',\n",
              " b'cookies',\n",
              " b'=',\n",
              " b'document.cookie.split(\";',\n",
              " b'\");',\n",
              " b'for',\n",
              " b'(var',\n",
              " b'i',\n",
              " b'=',\n",
              " b'0;',\n",
              " b'i',\n",
              " b'<',\n",
              " b'cookies.length;',\n",
              " b'++i)',\n",
              " b'{',\n",
              " b'if',\n",
              " b'((cookies[i].indexOf(\"trkCode=\")',\n",
              " b'==',\n",
              " b'0)',\n",
              " b'&&',\n",
              " b'(cookies[i].length',\n",
              " b'>',\n",
              " b'8))',\n",
              " b'{',\n",
              " b'trk',\n",
              " b'=',\n",
              " b'cookies[i].substring(8);',\n",
              " b'}',\n",
              " b'else',\n",
              " b'if',\n",
              " b'((cookies[i].indexOf(\"trkInfo=\")',\n",
              " b'==',\n",
              " b'0)',\n",
              " b'&&',\n",
              " b'(cookies[i].length',\n",
              " b'>',\n",
              " b'8))',\n",
              " b'{',\n",
              " b'trkInfo',\n",
              " b'=',\n",
              " b'cookies[i].substring(8);',\n",
              " b'}',\n",
              " b'}',\n",
              " b'if',\n",
              " b'(window.location.protocol',\n",
              " b'==',\n",
              " b'\"http:\")',\n",
              " b'{',\n",
              " b'//',\n",
              " b'If',\n",
              " b'\"sl\"',\n",
              " b'cookie',\n",
              " b'is',\n",
              " b'set,',\n",
              " b'redirect',\n",
              " b'to',\n",
              " b'https.',\n",
              " b'for',\n",
              " b'(var',\n",
              " b'i',\n",
              " b'=',\n",
              " b'0;',\n",
              " b'i',\n",
              " b'<',\n",
              " b'cookies.length;',\n",
              " b'++i)',\n",
              " b'{',\n",
              " b'if',\n",
              " b'((cookies[i].indexOf(\"sl=\")',\n",
              " b'==',\n",
              " b'0)',\n",
              " b'&&',\n",
              " b'(cookies[i].length',\n",
              " b'>',\n",
              " b'3))',\n",
              " b'{',\n",
              " b'window.location.href',\n",
              " b'=',\n",
              " b'\"https:\"',\n",
              " b'+',\n",
              " b'window.location.href.substring(window.location.protocol.length);',\n",
              " b'return;',\n",
              " b'}',\n",
              " b'}',\n",
              " b'}',\n",
              " b'//',\n",
              " b'Get',\n",
              " b'the',\n",
              " b'new',\n",
              " b'domain.',\n",
              " b'For',\n",
              " b'international',\n",
              " b'domains',\n",
              " b'such',\n",
              " b'as',\n",
              " b'//',\n",
              " b'fr.linkedin.com,',\n",
              " b'we',\n",
              " b'convert',\n",
              " b'it',\n",
              " b'to',\n",
              " b'www.linkedin.com',\n",
              " b'//',\n",
              " b'treat',\n",
              " b'.cn',\n",
              " b'similar',\n",
              " b'to',\n",
              " b'.com',\n",
              " b'here',\n",
              " b'var',\n",
              " b'domain',\n",
              " b'=',\n",
              " b'location.host;',\n",
              " b'if',\n",
              " b'(domain',\n",
              " b'!=',\n",
              " b'\"www.linkedin.com\"',\n",
              " b'&&',\n",
              " b'domain',\n",
              " b'!=',\n",
              " b'\"www.linkedin.cn\")',\n",
              " b'{',\n",
              " b'var',\n",
              " b'subdomainIndex',\n",
              " b'=',\n",
              " b'location.host.indexOf(\".linkedin\");',\n",
              " b'if',\n",
              " b'(subdomainIndex',\n",
              " b'!=',\n",
              " b'-1)',\n",
              " b'{',\n",
              " b'domain',\n",
              " b'=',\n",
              " b'\"www\"',\n",
              " b'+',\n",
              " b'location.host.substring(subdomainIndex);',\n",
              " b'}',\n",
              " b'}',\n",
              " b'window.location.href',\n",
              " b'=',\n",
              " b'\"https://\"',\n",
              " b'+',\n",
              " b'domain',\n",
              " b'+',\n",
              " b'\"/authwall?trk=\"',\n",
              " b'+',\n",
              " b'trk',\n",
              " b'+',\n",
              " b'\"&trkInfo=\"',\n",
              " b'+',\n",
              " b'trkInfo',\n",
              " b'+',\n",
              " b'\"&original_referer=\"',\n",
              " b'+',\n",
              " b'document.referrer.substr(0,',\n",
              " b'200)',\n",
              " b'+',\n",
              " b'\"&sessionRedirect=\"',\n",
              " b'+',\n",
              " b'encodeURIComponent(window.location.href);',\n",
              " b'}',\n",
              " b'</script>',\n",
              " b'</head></html>']"
            ]
          },
          "metadata": {},
          "execution_count": 15
        }
      ]
    },
    {
      "cell_type": "code",
      "source": [],
      "metadata": {
        "id": "vM3HMFcZpRsh"
      },
      "execution_count": null,
      "outputs": []
    }
  ]
}