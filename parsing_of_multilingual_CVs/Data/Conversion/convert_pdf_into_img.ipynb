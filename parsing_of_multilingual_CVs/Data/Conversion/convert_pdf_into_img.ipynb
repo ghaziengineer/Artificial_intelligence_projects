{
  "nbformat": 4,
  "nbformat_minor": 0,
  "metadata": {
    "colab": {
      "provenance": []
    },
    "kernelspec": {
      "name": "python3",
      "display_name": "Python 3"
    },
    "language_info": {
      "name": "python"
    }
  },
  "cells": [
    {
      "cell_type": "code",
      "source": [
        "! pip install pdf2image\n"
      ],
      "metadata": {
        "colab": {
          "base_uri": "https://localhost:8080/"
        },
        "id": "52bce4UhBqLL",
        "outputId": "f8fe9cdc-2657-40ef-9c9f-8bfb7dc9ff49"
      },
      "execution_count": null,
      "outputs": [
        {
          "output_type": "stream",
          "name": "stdout",
          "text": [
            "Looking in indexes: https://pypi.org/simple, https://us-python.pkg.dev/colab-wheels/public/simple/\n",
            "Collecting pdf2image\n",
            "  Downloading pdf2image-1.16.3-py3-none-any.whl (11 kB)\n",
            "Requirement already satisfied: pillow in /usr/local/lib/python3.10/dist-packages (from pdf2image) (8.4.0)\n",
            "Installing collected packages: pdf2image\n",
            "Successfully installed pdf2image-1.16.3\n"
          ]
        }
      ]
    },
    {
      "cell_type": "code",
      "source": [
        " ! sudo apt-get install poppler-utils\n"
      ],
      "metadata": {
        "id": "c6ihayXpB1u7"
      },
      "execution_count": null,
      "outputs": []
    },
    {
      "cell_type": "code",
      "execution_count": null,
      "metadata": {
        "id": "1Z3-HWjT7k_K"
      },
      "outputs": [],
      "source": [
        "import os\n",
        "from pdf2image import convert_from_path\n",
        "\n",
        "# spécifier le chemin du fichier PDF et le dossier de sortie\n",
        "pdf_path = \"/content/drive/MyDrive/important/bd cvs/22Mon cv.pdf\"\n",
        "output_folder = \"/content/drive/MyDrive/important/conversion\"\n",
        "\n",
        "# vérifier si le dossier de sortie existe, sinon le créer\n",
        "if not os.path.exists(output_folder):\n",
        "    os.makedirs(output_folder)\n",
        "\n",
        "# convertir chaque page du PDF en image et le sauvegarder dans le dossier de sortie\n",
        "images = convert_from_path(pdf_path)\n",
        "for i, image in enumerate(images):\n",
        "    image_path = os.path.join(output_folder, f\"{file_name}_page_{i+1}.jpg\")\n",
        "    image.save(image_path, \"JPEG\")\n"
      ]
    },
    {
      "cell_type": "code",
      "source": [
        "import os\n",
        "from pdf2image import convert_from_path\n",
        "\n",
        "def convert_pdf_to_images(input_folder, output_folder):\n",
        "    # Crée le dossier de sortie s'il n'existe pas\n",
        "    if not os.path.exists(output_folder):\n",
        "        os.makedirs(output_folder)\n",
        "\n",
        "    # Parcours tous les fichiers PDF dans le dossier d'entrée\n",
        "    for filename in os.listdir(input_folder):\n",
        "        if filename.endswith(\".pdf\"):\n",
        "            # Chemin complet du fichier PDF\n",
        "            pdf_path = os.path.join(input_folder, filename)\n",
        "\n",
        "            # Convertit le fichier PDF en images\n",
        "            images = convert_from_path(pdf_path)\n",
        "\n",
        "            # Enregistre les images dans le dossier de sortie\n",
        "            for i, image in enumerate(images):\n",
        "                image_path = os.path.join(output_folder, f\"{filename}_{i}.jpg\")\n",
        "                image.save(image_path, \"JPEG\")\n",
        "\n",
        "            print(f\"Conversion du fichier {filename} terminée.\")\n",
        "\n",
        "# Spécifie les dossiers d'entrée et de sortie\n",
        "input_folder = \"/content/drive/MyDrive/important/entree_data\"\n",
        "output_folder = \"/content/drive/MyDrive/important/conversion\"\n",
        "\n",
        "# Appelle la fonction de conversion\n",
        "convert_pdf_to_images(input_folder, output_folder)\n"
      ],
      "metadata": {
        "colab": {
          "base_uri": "https://localhost:8080/"
        },
        "id": "7wmomIJLBtQT",
        "outputId": "50e5c109-7ce7-419b-e4a8-85b638a9a1da"
      },
      "execution_count": null,
      "outputs": [
        {
          "output_type": "stream",
          "name": "stdout",
          "text": [
            "Conversion du fichier Copie de 555CV.pdf terminée.\n",
            "Conversion du fichier Copie de 2cv dhia eddin boukthir.pdf terminée.\n",
            "Conversion du fichier Copie de __CURRICULUM-VITAE__MOHAMED-KAMMOUN.pdf terminée.\n"
          ]
        }
      ]
    },
    {
      "cell_type": "code",
      "source": [
        "import os\n",
        "from pdf2image import convert_from_path\n",
        "from PIL import Image, ImageEnhance\n",
        "\n",
        "def convert_pdf_to_images(input_folder, output_folder):\n",
        "    # Crée le dossier de sortie s'il n'existe pas\n",
        "    if not os.path.exists(output_folder):\n",
        "        os.makedirs(output_folder)\n",
        "\n",
        "    # Parcours tous les fichiers PDF dans le dossier d'entrée\n",
        "    for filename in os.listdir(input_folder):\n",
        "        if filename.endswith(\".pdf\"):\n",
        "            # Chemin complet du fichier PDF\n",
        "            pdf_path = os.path.join(input_folder, filename)\n",
        "\n",
        "            # Convertit le fichier PDF en images\n",
        "            images = convert_from_path(pdf_path)\n",
        "\n",
        "            # Enregistre les images dans le dossier de sortie\n",
        "            for i, image in enumerate(images):\n",
        "                # Conversion en niveau de gris\n",
        "                grayscale_image = image.convert(\"L\")\n",
        "\n",
        "                # Augmentation du contraste\n",
        "                contrast_enhancer = ImageEnhance.Contrast(grayscale_image)\n",
        "                enhanced_image = contrast_enhancer.enhance(1.5)\n",
        "\n",
        "                # Chemin d'enregistrement de l'image\n",
        "                image_path = os.path.join(output_folder, f\"{filename}_{i}.jpg\")\n",
        "\n",
        "                # Enregistre l'image\n",
        "                enhanced_image.save(image_path, \"JPEG\")\n",
        "\n",
        "            print(f\"Conversion du fichier {filename} terminée.\")\n",
        "\n",
        "# Spécifie les dossiers d'entrée et de sortie\n",
        "input_folder = \"/content/drive/MyDrive/important/echantillon1_50cv\"\n",
        "output_folder = \"/content/drive/MyDrive/important/echantillon1_convertit\"\n",
        "\n",
        "# Appelle la fonction de conversion\n",
        "convert_pdf_to_images(input_folder, output_folder)\n"
      ],
      "metadata": {
        "colab": {
          "base_uri": "https://localhost:8080/"
        },
        "id": "dmvmFMaDFWl-",
        "outputId": "bd413e15-0d6c-4d1d-b6cc-65341fdf3848"
      },
      "execution_count": null,
      "outputs": [
        {
          "output_type": "stream",
          "name": "stdout",
          "text": [
            "Conversion du fichier CV_Benjamin_Bouvier.pdf.10610378.pdf terminée.\n",
            "Conversion du fichier CV_fr_Arbi_Benzarti .pdf terminée.\n",
            "Conversion du fichier CV_Khouloud_Sedghiani.pdf terminée.\n",
            "Conversion du fichier CV_FADHEL_Ali.pdf terminée.\n",
            "Conversion du fichier CV_Bilel_SALEM.pdf terminée.\n",
            "Conversion du fichier CV ABIDI-Maissa.pdf terminée.\n",
            "Conversion du fichier cv issa hashassi.pdf terminée.\n",
            "Conversion du fichier CV Nebli Yessine.pdf terminée.\n",
            "Conversion du fichier cv_dorsaf_enetcom.pdf terminée.\n",
            "Conversion du fichier CV_YOUSFI_Neji.pdf terminée.\n",
            "Conversion du fichier Aya Abdessalem - CV Novembre2020.pdf terminée.\n",
            "Conversion du fichier CV_Mohamed Ali_BEN ALAYA _French.pdf terminée.\n",
            "Conversion du fichier CV_Hichem_Debyaoui_FR.pdf terminée.\n",
            "Conversion du fichier CV_MEZGHANI_Mariem.pdf terminée.\n",
            "Conversion du fichier Abdelhamid_Ziadia_Resume .pdf terminée.\n",
            "Conversion du fichier CV_TRIKI_Marwa.pdf terminée.\n",
            "Conversion du fichier CV_ZAOUALI_Khaoula.pdf terminée.\n",
            "Conversion du fichier cv_Batascome_Pouwedeou.pdf terminée.\n",
            "Conversion du fichier CV_AbdelazizFadhel.pdf terminée.\n",
            "Conversion du fichier cv (1).pdf terminée.\n",
            "Conversion du fichier CV_Malek_Mahar_ENG.pdf terminée.\n",
            "Conversion du fichier chayma_cv.pdf terminée.\n",
            "Conversion du fichier CV_KECHICH_Saif.pdf terminée.\n",
            "Conversion du fichier CV_Fathia zidi.pdf terminée.\n",
            "Conversion du fichier Ben Othman Amal_CV.pdf terminée.\n",
            "Conversion du fichier CV_Marwen_Ammar.pdf terminée.\n",
            "Conversion du fichier CV_BenJaballah_Mohamed_Ali.pdf terminée.\n",
            "Conversion du fichier CV_HIND_BAHLOUL.pdf terminée.\n",
            "Conversion du fichier CV_Fadoua_Sghaier.pdf terminée.\n",
            "Conversion du fichier Ahmed Briki_CV.pdf terminée.\n",
            "Conversion du fichier CV Imen Drira.pdf terminée.\n",
            "Conversion du fichier AOUINI Rahma_cv.pdf terminée.\n",
            "Conversion du fichier CV_Ahmed_Gargouri.pdf terminée.\n",
            "Conversion du fichier CV_Makni_Ahmed.pdf terminée.\n",
            "Conversion du fichier CV_Abcha_Ghaith.pdf terminée.\n",
            "Conversion du fichier CV_MEFTEH_Moez.pdf terminée.\n",
            "Conversion du fichier CV_Wassim_Yaich.pdf terminée.\n",
            "Conversion du fichier Ahmed_Gargouri_CV.pdf terminée.\n",
            "Conversion du fichier 2022-12-15 07 51 23-08 00CV m-1.pdf terminée.\n",
            "Conversion du fichier CV DRIRA MOLKA.pdf terminée.\n",
            "Conversion du fichier CV_AhmedAmineGhorbel.pdf terminée.\n",
            "Conversion du fichier 22Mon cv.pdf terminée.\n",
            "Conversion du fichier CV Sirine ESSANDI.pdf terminée.\n",
            "Conversion du fichier 2CV_Rania_Rekik.pdf terminée.\n",
            "Conversion du fichier CV-de-Wajdi-JABEUR.pdf terminée.\n",
            "Conversion du fichier 2cv dhia eddin boukthir.pdf terminée.\n",
            "Conversion du fichier 66cv.pdf terminée.\n",
            "Conversion du fichier 555CV.pdf terminée.\n",
            "Conversion du fichier CV_Wael_Dhouib.pdf terminée.\n",
            "Conversion du fichier __CURRICULUM-VITAE__MOHAMED-KAMMOUN.pdf terminée.\n"
          ]
        }
      ]
    }
  ]
}